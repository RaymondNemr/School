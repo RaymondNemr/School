{
 "cells": [
  {
   "cell_type": "code",
   "execution_count": 1,
   "metadata": {},
   "outputs": [],
   "source": [
    "from sqlalchemy import create_engine\n",
    "from sqlalchemy import Column, Integer, String, Float, ForeignKey\n",
    "from sqlalchemy.ext.declarative import declarative_base\n",
    "from sqlalchemy.orm import sessionmaker\n",
    "from sqlalchemy.orm import relationship\n",
    "\n",
    "Base = declarative_base()"
   ]
  },
  {
   "cell_type": "code",
   "execution_count": 2,
   "metadata": {},
   "outputs": [],
   "source": [
    "class Grade(Base):\n",
    "   __tablename__ = 'Grades'\n",
    "   __table_args__ = {'extend_existing': True} \n",
    "   \n",
    "   id = Column(Integer, primary_key=True)\n",
    "   student_id = Column(Integer, ForeignKey('Students.id'))\n",
    "   subject = Column(String)\n",
    "   grade = Column(Float)\n",
    "   extend_existing=True\n",
    "\n",
    "   student = relationship(\"Student\", back_populates = \"Grades\")"
   ]
  },
  {
   "cell_type": "code",
   "execution_count": 3,
   "metadata": {},
   "outputs": [],
   "source": [
    "class Student(Base):\n",
    "   __tablename__ = 'Students'\n",
    "   __table_args__ = {'extend_existing': True} \n",
    "\n",
    "   id = Column(Integer, primary_key=True)\n",
    "\n",
    "   name = Column(String)\n",
    "   age = Column(Integer)\n",
    "\n",
    "Student.Grades = relationship(\"Grade\", order_by = Grade.id, back_populates = \"student\")"
   ]
  },
  {
   "cell_type": "code",
   "execution_count": 4,
   "metadata": {},
   "outputs": [],
   "source": [
    "engine = create_engine('sqlite:///new_class.sqlite', echo=False)\n",
    "\n",
    "Base.metadata.create_all(engine)"
   ]
  },
  {
   "cell_type": "code",
   "execution_count": 5,
   "metadata": {},
   "outputs": [],
   "source": [
    "class School:\n",
    "\n",
    "    def __init__(self):\n",
    "        \n",
    "        Session = sessionmaker(bind = engine)\n",
    "        self.session = Session()\n",
    "\n",
    "\n",
    "    def set_student(self, student_name, student_age):\n",
    "        student = Student(name = student_name, age = student_age)\n",
    "        \n",
    "        self.session.add(student)\n",
    "        self.session.commit()\n",
    "\n",
    "        return student.id\n",
    "\n",
    "    \n",
    "    def set_student_grade(self, student_id, grade, subject):\n",
    "\n",
    "        grade = Grade(student_id = student_id, grade = grade, subject = subject)      \n",
    "        self.session.add(grade)\n",
    "        self.session.commit()\n",
    "\n",
    "        return None\n",
    "    \n",
    "\n",
    "    def set_grade(self, grade_id, new_grade):\n",
    "        result = self.session.query(Grade).get(grade_id)\n",
    "\n",
    "        result.grade = new_grade\n",
    "        self.session.commit()\n",
    "\n",
    "        return None\n",
    "\n",
    "    def get_student_by_name(self, student_name):\n",
    "        result = self.session.query(Student).filter(Student.name == student_name)        \n",
    "        \n",
    "        return result\n",
    "    \n",
    "    \n",
    "    def get_student_by_id(self, student_id):\n",
    "        result = self.session.query(Student).get(student_id)\n",
    "        \n",
    "        return result\n",
    "    \n",
    "    \n",
    "    def get_student_grades(self, id):\n",
    "        result = self.session.query(Grade).filter(Grade.student_id==id)\n",
    "\n",
    "        return result\n",
    "\n",
    "    \n",
    "    def get_grade(self, grade_id):\n",
    "        result = self.session.query(Grade).get(grade_id)\n",
    "\n",
    "        return result\n",
    "\n"
   ]
  },
  {
   "cell_type": "code",
   "execution_count": 6,
   "metadata": {},
   "outputs": [
    {
     "data": {
      "text/plain": [
       "1"
      ]
     },
     "execution_count": 6,
     "metadata": {},
     "output_type": "execute_result"
    }
   ],
   "source": [
    "s1 = School()\n",
    "\n",
    "s1.set_student('jaime', 34)"
   ]
  },
  {
   "cell_type": "code",
   "execution_count": 7,
   "metadata": {},
   "outputs": [],
   "source": [
    "s2 = School()\n",
    "\n",
    "#student1 = Student(name = 'otavio', age = 23)\n",
    "\n",
    "s2.set_student_grade(1, 9, 'music')"
   ]
  },
  {
   "cell_type": "code",
   "execution_count": 19,
   "metadata": {},
   "outputs": [],
   "source": [
    "s3 = School()\n",
    "\n",
    "s3.set_grade(3, 6)"
   ]
  },
  {
   "cell_type": "code",
   "execution_count": 8,
   "metadata": {},
   "outputs": [
    {
     "name": "stdout",
     "output_type": "stream",
     "text": [
      "['name: jaime, age: 34']\n"
     ]
    }
   ],
   "source": [
    "s4 = School()\n",
    "\n",
    "result = s4.get_student_by_name('jaime')\n",
    "\n",
    "newlist = ['name: {}, age: {}'.format(s.name, s.age) for s in result]\n",
    "\n",
    "print(newlist)\n"
   ]
  },
  {
   "cell_type": "code",
   "execution_count": 52,
   "metadata": {},
   "outputs": [
    {
     "name": "stdout",
     "output_type": "stream",
     "text": [
      "raymond 19\n"
     ]
    }
   ],
   "source": [
    "s5 = School()\n",
    "\n",
    "result = s5.get_student_by_id(1)\n",
    "\n",
    "print(result.name, result.age)\n"
   ]
  },
  {
   "cell_type": "code",
   "execution_count": 47,
   "metadata": {},
   "outputs": [
    {
     "name": "stdout",
     "output_type": "stream",
     "text": [
      "['subject: geography, grade: 9.0', 'subject: geography, grade: 9.0', 'subject: music, grade: 6.0']\n"
     ]
    }
   ],
   "source": [
    "s6 = School()\n",
    "\n",
    "result = s6.get_student_grades(3)\n",
    "\n",
    "newlist = ['subject: {}, grade: {}'.format(s.subject, s.grade) for s in result]\n",
    "\n",
    "print(newlist)\n"
   ]
  },
  {
   "cell_type": "code",
   "execution_count": 51,
   "metadata": {},
   "outputs": [
    {
     "name": "stdout",
     "output_type": "stream",
     "text": [
      "music 6.0\n"
     ]
    }
   ],
   "source": [
    "s7 = School()\n",
    "\n",
    "result = s7.get_grade(3)\n",
    "\n",
    "print(result.subject, result.grade)"
   ]
  },
  {
   "cell_type": "code",
   "execution_count": 13,
   "metadata": {},
   "outputs": [
    {
     "data": {
      "text/plain": [
       "7"
      ]
     },
     "execution_count": 13,
     "metadata": {},
     "output_type": "execute_result"
    }
   ],
   "source": [
    "import json\n",
    "\n",
    "dictionary = json.loads('{\"id\": 7}')\n",
    "\n",
    "dictionary[\"id\"]"
   ]
  }
 ],
 "metadata": {
  "kernelspec": {
   "display_name": "Python 3.10.4 64-bit",
   "language": "python",
   "name": "python3"
  },
  "language_info": {
   "codemirror_mode": {
    "name": "ipython",
    "version": 3
   },
   "file_extension": ".py",
   "mimetype": "text/x-python",
   "name": "python",
   "nbconvert_exporter": "python",
   "pygments_lexer": "ipython3",
   "version": "3.10.4"
  },
  "orig_nbformat": 4,
  "vscode": {
   "interpreter": {
    "hash": "916dbcbb3f70747c44a77c7bcd40155683ae19c65e1c03b4aa3499c5328201f1"
   }
  }
 },
 "nbformat": 4,
 "nbformat_minor": 2
}
